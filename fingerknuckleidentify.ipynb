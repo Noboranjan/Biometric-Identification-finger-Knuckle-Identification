{
 "cells": [
  {
   "cell_type": "code",
   "execution_count": 9,
   "id": "959c4976",
   "metadata": {
    "scrolled": true
   },
   "outputs": [
    {
     "name": "stdout",
     "output_type": "stream",
     "text": [
      "['subject1', 'subject10', 'subject100', 'subject101', 'subject102', 'subject103', 'subject104', 'subject105', 'subject106', 'subject107', 'subject108', 'subject109', 'subject11', 'subject110', 'subject111', 'subject112', 'subject113', 'subject114', 'subject115', 'subject116', 'subject117', 'subject118', 'subject119', 'subject12', 'subject120', 'subject121', 'subject122', 'subject123', 'subject124', 'subject125', 'subject126', 'subject127', 'subject128', 'subject129', 'subject13', 'subject130', 'subject131', 'subject132', 'subject133', 'subject134', 'subject135', 'subject136', 'subject137', 'subject138', 'subject139', 'subject14', 'subject140', 'subject141', 'subject142', 'subject143', 'subject144', 'subject145', 'subject146', 'subject147', 'subject148', 'subject149', 'subject15', 'subject150', 'subject151', 'subject152', 'subject153', 'subject154', 'subject155', 'subject156', 'subject157', 'subject158', 'subject159', 'subject16', 'subject160', 'subject161', 'subject162', 'subject163', 'subject164', 'subject165', 'subject166', 'subject167', 'subject168', 'subject169', 'subject17', 'subject170', 'subject171', 'subject172', 'subject173', 'subject174', 'subject175', 'subject176', 'subject177', 'subject178', 'subject179', 'subject18', 'subject180', 'subject181', 'subject182', 'subject183', 'subject184', 'subject185', 'subject186', 'subject187', 'subject188', 'subject189', 'subject19', 'subject190', 'subject2', 'subject20', 'subject21', 'subject22', 'subject23', 'subject24', 'subject25', 'subject26', 'subject27', 'subject28', 'subject29', 'subject3', 'subject30', 'subject31', 'subject32', 'subject33', 'subject34', 'subject35', 'subject36', 'subject37', 'subject38', 'subject39', 'subject4', 'subject40', 'subject41', 'subject42', 'subject43', 'subject44', 'subject45', 'subject46', 'subject47', 'subject48', 'subject49', 'subject5', 'subject50', 'subject51', 'subject52', 'subject53', 'subject54', 'subject55', 'subject56', 'subject57', 'subject58', 'subject59', 'subject6', 'subject60', 'subject61', 'subject62', 'subject63', 'subject64', 'subject65', 'subject66', 'subject67', 'subject68', 'subject69', 'subject7', 'subject70', 'subject71', 'subject72', 'subject73', 'subject74', 'subject75', 'subject76', 'subject77', 'subject78', 'subject79', 'subject8', 'subject80', 'subject81', 'subject82', 'subject83', 'subject84', 'subject85', 'subject86', 'subject87', 'subject88', 'subject89', 'subject9', 'subject90', 'subject91', 'subject92', 'subject93', 'subject94', 'subject95', 'subject96', 'subject97', 'subject98', 'subject99']\n"
     ]
    }
   ],
   "source": [
    "import numpy as np\n",
    "import pandas as pd\n",
    "import matplotlib.pyplot as plt\n",
    "import os\n",
    "\n",
    "train_dataset_path = os.listdir('data\\data_label_190\\data_render2_190_with1_set1_down_center_rot2_s1')\n",
    "\n",
    "train_subject_types = os.listdir('data\\data_label_190\\data_render2_190_with1_set1_down_center_rot2_s1')\n",
    "print(train_subject_types)"
   ]
  },
  {
   "cell_type": "code",
   "execution_count": 10,
   "id": "ed3e13b8",
   "metadata": {},
   "outputs": [
    {
     "name": "stdout",
     "output_type": "stream",
     "text": [
      "3990\n",
      "3990\n",
      "[[[[57 57 57]\n",
      "   [57 57 57]\n",
      "   [54 54 54]\n",
      "   ...\n",
      "   [69 69 69]\n",
      "   [68 68 68]\n",
      "   [68 68 68]]\n",
      "\n",
      "  [[57 57 57]\n",
      "   [57 57 57]\n",
      "   [54 54 54]\n",
      "   ...\n",
      "   [69 69 69]\n",
      "   [68 68 68]\n",
      "   [68 68 68]]\n",
      "\n",
      "  [[57 57 57]\n",
      "   [56 56 56]\n",
      "   [54 54 54]\n",
      "   ...\n",
      "   [69 69 69]\n",
      "   [68 68 68]\n",
      "   [68 68 68]]\n",
      "\n",
      "  ...\n",
      "\n",
      "  [[41 41 41]\n",
      "   [41 41 41]\n",
      "   [41 41 41]\n",
      "   ...\n",
      "   [74 74 74]\n",
      "   [74 74 74]\n",
      "   [74 74 74]]\n",
      "\n",
      "  [[41 41 41]\n",
      "   [41 41 41]\n",
      "   [41 41 41]\n",
      "   ...\n",
      "   [73 73 73]\n",
      "   [74 74 74]\n",
      "   [74 74 74]]\n",
      "\n",
      "  [[41 41 41]\n",
      "   [41 41 41]\n",
      "   [41 41 41]\n",
      "   ...\n",
      "   [73 73 73]\n",
      "   [74 74 74]\n",
      "   [74 74 74]]]\n",
      "\n",
      "\n",
      " [[[67 67 67]\n",
      "   [67 67 67]\n",
      "   [70 70 70]\n",
      "   ...\n",
      "   [47 47 47]\n",
      "   [45 45 45]\n",
      "   [45 45 45]]\n",
      "\n",
      "  [[67 67 67]\n",
      "   [67 67 67]\n",
      "   [70 70 70]\n",
      "   ...\n",
      "   [47 47 47]\n",
      "   [45 45 45]\n",
      "   [45 45 45]]\n",
      "\n",
      "  [[67 67 67]\n",
      "   [67 67 67]\n",
      "   [70 70 70]\n",
      "   ...\n",
      "   [47 47 47]\n",
      "   [45 45 45]\n",
      "   [45 45 45]]\n",
      "\n",
      "  ...\n",
      "\n",
      "  [[37 37 37]\n",
      "   [37 37 37]\n",
      "   [38 38 38]\n",
      "   ...\n",
      "   [97 97 97]\n",
      "   [98 98 98]\n",
      "   [98 98 98]]\n",
      "\n",
      "  [[37 37 37]\n",
      "   [37 37 37]\n",
      "   [38 38 38]\n",
      "   ...\n",
      "   [97 97 97]\n",
      "   [98 98 98]\n",
      "   [98 98 98]]\n",
      "\n",
      "  [[37 37 37]\n",
      "   [37 37 37]\n",
      "   [38 38 38]\n",
      "   ...\n",
      "   [97 97 97]\n",
      "   [98 98 98]\n",
      "   [98 98 98]]]\n",
      "\n",
      "\n",
      " [[[60 60 60]\n",
      "   [60 60 60]\n",
      "   [59 59 59]\n",
      "   ...\n",
      "   [71 71 71]\n",
      "   [70 70 70]\n",
      "   [70 70 70]]\n",
      "\n",
      "  [[60 60 60]\n",
      "   [60 60 60]\n",
      "   [59 59 59]\n",
      "   ...\n",
      "   [71 71 71]\n",
      "   [70 70 70]\n",
      "   [70 70 70]]\n",
      "\n",
      "  [[60 60 60]\n",
      "   [60 60 60]\n",
      "   [59 59 59]\n",
      "   ...\n",
      "   [71 71 71]\n",
      "   [70 70 70]\n",
      "   [70 70 70]]\n",
      "\n",
      "  ...\n",
      "\n",
      "  [[42 42 42]\n",
      "   [42 42 42]\n",
      "   [43 43 43]\n",
      "   ...\n",
      "   [76 76 76]\n",
      "   [77 77 77]\n",
      "   [77 77 77]]\n",
      "\n",
      "  [[42 42 42]\n",
      "   [42 42 42]\n",
      "   [43 43 43]\n",
      "   ...\n",
      "   [76 76 76]\n",
      "   [77 77 77]\n",
      "   [77 77 77]]\n",
      "\n",
      "  [[42 42 42]\n",
      "   [42 42 42]\n",
      "   [43 43 43]\n",
      "   ...\n",
      "   [76 76 76]\n",
      "   [77 77 77]\n",
      "   [77 77 77]]]\n",
      "\n",
      "\n",
      " ...\n",
      "\n",
      "\n",
      " [[[33 33 33]\n",
      "   [33 33 33]\n",
      "   [33 33 33]\n",
      "   ...\n",
      "   [89 89 89]\n",
      "   [91 91 91]\n",
      "   [91 91 91]]\n",
      "\n",
      "  [[33 33 33]\n",
      "   [33 33 33]\n",
      "   [33 33 33]\n",
      "   ...\n",
      "   [89 89 89]\n",
      "   [91 91 91]\n",
      "   [91 91 91]]\n",
      "\n",
      "  [[33 33 33]\n",
      "   [33 33 33]\n",
      "   [33 33 33]\n",
      "   ...\n",
      "   [88 88 88]\n",
      "   [91 91 91]\n",
      "   [91 91 91]]\n",
      "\n",
      "  ...\n",
      "\n",
      "  [[87 87 87]\n",
      "   [88 88 88]\n",
      "   [90 90 90]\n",
      "   ...\n",
      "   [53 53 53]\n",
      "   [53 53 53]\n",
      "   [53 53 53]]\n",
      "\n",
      "  [[87 87 87]\n",
      "   [87 87 87]\n",
      "   [90 90 90]\n",
      "   ...\n",
      "   [52 52 52]\n",
      "   [53 53 53]\n",
      "   [53 53 53]]\n",
      "\n",
      "  [[87 87 87]\n",
      "   [87 87 87]\n",
      "   [90 90 90]\n",
      "   ...\n",
      "   [52 52 52]\n",
      "   [53 53 53]\n",
      "   [53 53 53]]]\n",
      "\n",
      "\n",
      " [[[34 34 34]\n",
      "   [34 34 34]\n",
      "   [35 35 35]\n",
      "   ...\n",
      "   [90 90 90]\n",
      "   [92 92 92]\n",
      "   [92 92 92]]\n",
      "\n",
      "  [[34 34 34]\n",
      "   [34 34 34]\n",
      "   [35 35 35]\n",
      "   ...\n",
      "   [90 90 90]\n",
      "   [92 92 92]\n",
      "   [92 92 92]]\n",
      "\n",
      "  [[34 34 34]\n",
      "   [34 34 34]\n",
      "   [35 35 35]\n",
      "   ...\n",
      "   [90 90 90]\n",
      "   [92 92 92]\n",
      "   [92 92 92]]\n",
      "\n",
      "  ...\n",
      "\n",
      "  [[92 92 92]\n",
      "   [93 93 93]\n",
      "   [96 96 96]\n",
      "   ...\n",
      "   [51 51 51]\n",
      "   [52 52 52]\n",
      "   [52 52 52]]\n",
      "\n",
      "  [[92 92 92]\n",
      "   [92 92 92]\n",
      "   [95 95 95]\n",
      "   ...\n",
      "   [51 51 51]\n",
      "   [52 52 52]\n",
      "   [52 52 52]]\n",
      "\n",
      "  [[92 92 92]\n",
      "   [92 92 92]\n",
      "   [95 95 95]\n",
      "   ...\n",
      "   [51 51 51]\n",
      "   [52 52 52]\n",
      "   [52 52 52]]]\n",
      "\n",
      "\n",
      " [[[32 32 32]\n",
      "   [32 32 32]\n",
      "   [32 32 32]\n",
      "   ...\n",
      "   [90 90 90]\n",
      "   [92 92 92]\n",
      "   [92 92 92]]\n",
      "\n",
      "  [[32 32 32]\n",
      "   [32 32 32]\n",
      "   [32 32 32]\n",
      "   ...\n",
      "   [90 90 90]\n",
      "   [92 92 92]\n",
      "   [92 92 92]]\n",
      "\n",
      "  [[32 32 32]\n",
      "   [32 32 32]\n",
      "   [32 32 32]\n",
      "   ...\n",
      "   [90 90 90]\n",
      "   [92 92 92]\n",
      "   [92 92 92]]\n",
      "\n",
      "  ...\n",
      "\n",
      "  [[92 92 92]\n",
      "   [93 93 93]\n",
      "   [96 96 96]\n",
      "   ...\n",
      "   [47 47 47]\n",
      "   [48 48 48]\n",
      "   [48 48 48]]\n",
      "\n",
      "  [[92 92 92]\n",
      "   [92 92 92]\n",
      "   [95 95 95]\n",
      "   ...\n",
      "   [47 47 47]\n",
      "   [48 48 48]\n",
      "   [48 48 48]]\n",
      "\n",
      "  [[92 92 92]\n",
      "   [92 92 92]\n",
      "   [95 95 95]\n",
      "   ...\n",
      "   [47 47 47]\n",
      "   [48 48 48]\n",
      "   [48 48 48]]]]\n"
     ]
    }
   ],
   "source": [
    "train_subjects = []\n",
    "test_subjects_labels=[]\n",
    "input_images=[]\n",
    "input_labels=[]\n",
    "\n",
    "for item in train_subject_types:\n",
    "    all_train_subjects = os.listdir('data\\data_label_190\\data_render2_190_with1_set1_down_center_rot2_s1' + '/' +item)\n",
    "    #print(all_subjects)\n",
    "\n",
    "    path=str('data\\data_label_190\\data_render2_190_with1_set1_down_center_rot2_s1'  + '/' +item +  '/session1')\n",
    "    img,label=scan_folder(path,item)\n",
    "    input_images.append(img)\n",
    "    input_labels.append(label)\n",
    "    #print(input_labels)\n",
    "\n",
    "input_train_images=np.concatenate(input_images,axis=0)  \n",
    "input_train_labels=np.concatenate(input_labels,axis=0)\n",
    "print(len(input_train_images))    \n",
    "print(len(input_train_labels))\n",
    "print(input_train_images)"
   ]
  },
  {
   "cell_type": "code",
   "execution_count": 11,
   "id": "b34b286e",
   "metadata": {},
   "outputs": [],
   "source": [
    "import os\n",
    "import cv2\n",
    "from PIL import Image\n",
    "from io import BytesIO\n",
    "\n",
    "\n",
    "\n",
    "def scan_folder(train_dataset_path,label):\n",
    "    images = []\n",
    "    labels=[]\n",
    "    complete_path=[x[0] for x in os.walk(train_dataset_path)]\n",
    "    for file_name in complete_path:\n",
    "        #print(file_name)\n",
    "        for fn in  os.listdir(file_name) :\n",
    "            # print(fn)\n",
    "            if fn.endswith(\".bmp\"):\n",
    "            # if it's a txt file, print its name (or do whatever you want)\n",
    "                # print(file_name)\n",
    "                #im = Image.open(file_name+'/'+fn)\n",
    "                im = cv2.imread(file_name+'/'+fn)\n",
    "                # im.show()\n",
    "                img_arr=cv2.resize(im,(224,224))\n",
    "                images.append(img_arr)\n",
    "                labels.append(label)\n",
    "                #print(im.size)\n",
    "                #print(im.filename)\n",
    "             \n",
    "        \n",
    "        else:\n",
    "            current_path = \"\".join((train_dataset_path, \"/\", file_name))\n",
    "            if os.path.isdir(current_path):\n",
    "                # if we're checking a sub-directory, recursively call this method\n",
    "                scan_folder(current_path)\n",
    "    #print(images)\n",
    "    return images,labels\n",
    "\n",
    "total_train_images = []\n",
    "for i in train_subjects: \n",
    "    total_train_images += scan_folder(i)"
   ]
  },
  {
   "cell_type": "code",
   "execution_count": 12,
   "id": "cbe0ffc8",
   "metadata": {},
   "outputs": [
    {
     "name": "stdout",
     "output_type": "stream",
     "text": [
      "['subject1', 'subject10', 'subject100', 'subject101', 'subject102', 'subject103', 'subject104', 'subject105', 'subject106', 'subject107', 'subject108', 'subject109', 'subject11', 'subject110', 'subject111', 'subject112', 'subject113', 'subject114', 'subject115', 'subject116', 'subject117', 'subject118', 'subject119', 'subject12', 'subject120', 'subject121', 'subject122', 'subject123', 'subject124', 'subject125', 'subject126', 'subject127', 'subject128', 'subject129', 'subject13', 'subject130', 'subject131', 'subject132', 'subject133', 'subject134', 'subject135', 'subject136', 'subject137', 'subject138', 'subject139', 'subject14', 'subject140', 'subject141', 'subject142', 'subject143', 'subject144', 'subject145', 'subject146', 'subject147', 'subject148', 'subject149', 'subject15', 'subject150', 'subject151', 'subject152', 'subject153', 'subject154', 'subject155', 'subject156', 'subject157', 'subject158', 'subject159', 'subject16', 'subject160', 'subject161', 'subject162', 'subject163', 'subject164', 'subject165', 'subject166', 'subject167', 'subject168', 'subject169', 'subject17', 'subject170', 'subject171', 'subject172', 'subject173', 'subject174', 'subject175', 'subject176', 'subject177', 'subject178', 'subject179', 'subject18', 'subject180', 'subject181', 'subject182', 'subject183', 'subject184', 'subject185', 'subject186', 'subject187', 'subject188', 'subject189', 'subject19', 'subject190', 'subject2', 'subject20', 'subject21', 'subject22', 'subject23', 'subject24', 'subject25', 'subject26', 'subject27', 'subject28', 'subject29', 'subject3', 'subject30', 'subject31', 'subject32', 'subject33', 'subject34', 'subject35', 'subject36', 'subject37', 'subject38', 'subject39', 'subject4', 'subject40', 'subject41', 'subject42', 'subject43', 'subject44', 'subject45', 'subject46', 'subject47', 'subject48', 'subject49', 'subject5', 'subject50', 'subject51', 'subject52', 'subject53', 'subject54', 'subject55', 'subject56', 'subject57', 'subject58', 'subject59', 'subject6', 'subject60', 'subject61', 'subject62', 'subject63', 'subject64', 'subject65', 'subject66', 'subject67', 'subject68', 'subject69', 'subject7', 'subject70', 'subject71', 'subject72', 'subject73', 'subject74', 'subject75', 'subject76', 'subject77', 'subject78', 'subject79', 'subject8', 'subject80', 'subject81', 'subject82', 'subject83', 'subject84', 'subject85', 'subject86', 'subject87', 'subject88', 'subject89', 'subject9', 'subject90', 'subject91', 'subject92', 'subject93', 'subject94', 'subject95', 'subject96', 'subject97', 'subject98', 'subject99']\n"
     ]
    }
   ],
   "source": [
    "test_dataset_path = os.listdir('data\\data_label_190\\data_render2_190_with1_down_s2_ori')\n",
    "\n",
    "test_subject_types = os.listdir('data\\data_label_190\\data_render2_190_with1_down_s2_ori')\n",
    "print(test_subject_types)"
   ]
  },
  {
   "cell_type": "code",
   "execution_count": 13,
   "id": "658805d5",
   "metadata": {
    "scrolled": true
   },
   "outputs": [
    {
     "name": "stdout",
     "output_type": "stream",
     "text": [
      "1140\n",
      "1140\n",
      "[[[21 21 21]\n",
      "  [21 21 21]\n",
      "  [22 22 22]\n",
      "  ...\n",
      "  [21 21 21]\n",
      "  [21 21 21]\n",
      "  [21 21 21]]\n",
      "\n",
      " [[21 21 21]\n",
      "  [21 21 21]\n",
      "  [22 22 22]\n",
      "  ...\n",
      "  [21 21 21]\n",
      "  [21 21 21]\n",
      "  [21 21 21]]\n",
      "\n",
      " [[16 16 16]\n",
      "  [16 16 16]\n",
      "  [17 17 17]\n",
      "  ...\n",
      "  [17 17 17]\n",
      "  [17 17 17]\n",
      "  [16 16 16]]\n",
      "\n",
      " ...\n",
      "\n",
      " [[25 25 25]\n",
      "  [25 25 25]\n",
      "  [26 26 26]\n",
      "  ...\n",
      "  [25 25 25]\n",
      "  [25 25 25]\n",
      "  [25 25 25]]\n",
      "\n",
      " [[34 34 34]\n",
      "  [34 34 34]\n",
      "  [35 35 35]\n",
      "  ...\n",
      "  [34 34 34]\n",
      "  [34 34 34]\n",
      "  [34 34 34]]\n",
      "\n",
      " [[34 34 34]\n",
      "  [34 34 34]\n",
      "  [35 35 35]\n",
      "  ...\n",
      "  [34 34 34]\n",
      "  [34 34 34]\n",
      "  [34 34 34]]]\n",
      "subject1\n"
     ]
    }
   ],
   "source": [
    "test_subjects = []\n",
    "test_subjects_labels=[]\n",
    "input_images=[]\n",
    "input_labels=[]\n",
    "for item in test_subject_types:\n",
    "    all_test_subjects = os.listdir('data\\data_label_190\\data_render2_190_with1_down_s2_ori' + '/' +item)\n",
    "    #print(item)\n",
    "    path=str('data\\data_label_190\\data_render2_190_with1_down_s2_ori' + '/' +item +  '/session2')\n",
    "    img,label=scan_folder(path,item)\n",
    "    input_images.append(img)\n",
    "    input_labels.append(label)\n",
    "\n",
    "input_test_images=np.concatenate(input_images,axis=0)  \n",
    "input_test_labels=np.concatenate(input_labels,axis=0)\n",
    "print(len(input_test_images))    \n",
    "print(len(input_test_labels))\n",
    "print(input_test_images[5])\n",
    "print(input_test_labels[0])"
   ]
  },
  {
   "cell_type": "code",
   "execution_count": 14,
   "id": "97ffb579",
   "metadata": {},
   "outputs": [],
   "source": [
    "import os\n",
    "import cv2\n",
    "from PIL import Image\n",
    "from io import BytesIO\n",
    "\n",
    "\n",
    "\n",
    "def scan_folder(test_dataset_path,label):\n",
    "    images = []\n",
    "    labels=[]\n",
    "    #print(test_dataset_path)\n",
    "    complete_path=[x[0] for x in os.walk(test_dataset_path)]\n",
    "    #print(complete_path)\n",
    "    for file_name in complete_path:\n",
    "        #print(file_name)\n",
    "        for fn in  os.listdir(file_name) :\n",
    "            # print(fn)\n",
    "            if fn.endswith(\".bmp\"):\n",
    "            # if it's a txt file, print its name (or do whatever you want)\n",
    "                # print(file_name)\n",
    "                #im = Image.open(file_name+'/'+fn)\n",
    "                im = cv2.imread(file_name+'/'+fn)\n",
    "                # im.show()\n",
    "                img_arr=cv2.resize(im,(224,224))\n",
    "                images.append(img_arr)\n",
    "                labels.append(label)\n",
    "             \n",
    "        \n",
    "        else:\n",
    "            current_path = \"\".join((test_dataset_path, \"/\", file_name))\n",
    "            if os.path.isdir(current_path):\n",
    "                # if we're checking a sub-directory, recursively call this method\n",
    "                scan_folder(current_path)\n",
    "    #print(images)\n",
    "    return images,labels\n",
    "\n",
    "total_test_images = []\n",
    "for i in test_subjects: \n",
    "    #print(test_subjects)\n",
    "    total_test_images += scan_folder(i)"
   ]
  },
  {
   "cell_type": "code",
   "execution_count": 15,
   "id": "cb9aeaa8",
   "metadata": {},
   "outputs": [],
   "source": [
    "from tensorflow.keras.models import Sequential\n",
    "from tensorflow.keras.layers import Conv2D, MaxPooling2D, Dense, Flatten"
   ]
  },
  {
   "cell_type": "code",
   "execution_count": 16,
   "id": "b5c636fe",
   "metadata": {},
   "outputs": [],
   "source": [
    "X_train = input_train_images\n",
    "Y_train = input_train_labels\n",
    "\n",
    "X_test = input_test_images\n",
    "Y_test = input_test_labels"
   ]
  },
  {
   "cell_type": "code",
   "execution_count": 17,
   "id": "1d8f5fc8",
   "metadata": {
    "scrolled": true
   },
   "outputs": [
    {
     "name": "stdout",
     "output_type": "stream",
     "text": [
      "(3990, 224, 224, 3)\n",
      "(3990,)\n",
      "(1140, 224, 224, 3)\n",
      "(1140,)\n"
     ]
    }
   ],
   "source": [
    "print(X_train.shape)\n",
    "print(Y_train.shape)\n",
    "print(X_test.shape)\n",
    "print(Y_test.shape)"
   ]
  },
  {
   "cell_type": "code",
   "execution_count": 18,
   "id": "e17f3bb7",
   "metadata": {},
   "outputs": [],
   "source": [
    "X_train = X_train/22.0\n",
    "X_test = X_test/35.0"
   ]
  },
  {
   "cell_type": "code",
   "execution_count": 19,
   "id": "21cde3e6",
   "metadata": {
    "scrolled": true
   },
   "outputs": [
    {
     "data": {
      "text/plain": [
       "array([[[0.6       , 0.6       , 0.6       ],\n",
       "        [0.6       , 0.6       , 0.6       ],\n",
       "        [0.62857143, 0.62857143, 0.62857143],\n",
       "        ...,\n",
       "        [0.6       , 0.6       , 0.6       ],\n",
       "        [0.6       , 0.6       , 0.6       ],\n",
       "        [0.6       , 0.6       , 0.6       ]],\n",
       "\n",
       "       [[0.6       , 0.6       , 0.6       ],\n",
       "        [0.6       , 0.6       , 0.6       ],\n",
       "        [0.62857143, 0.62857143, 0.62857143],\n",
       "        ...,\n",
       "        [0.6       , 0.6       , 0.6       ],\n",
       "        [0.6       , 0.6       , 0.6       ],\n",
       "        [0.6       , 0.6       , 0.6       ]],\n",
       "\n",
       "       [[0.45714286, 0.45714286, 0.45714286],\n",
       "        [0.45714286, 0.45714286, 0.45714286],\n",
       "        [0.48571429, 0.48571429, 0.48571429],\n",
       "        ...,\n",
       "        [0.48571429, 0.48571429, 0.48571429],\n",
       "        [0.45714286, 0.45714286, 0.45714286],\n",
       "        [0.45714286, 0.45714286, 0.45714286]],\n",
       "\n",
       "       ...,\n",
       "\n",
       "       [[0.71428571, 0.71428571, 0.71428571],\n",
       "        [0.71428571, 0.71428571, 0.71428571],\n",
       "        [0.74285714, 0.74285714, 0.74285714],\n",
       "        ...,\n",
       "        [0.71428571, 0.71428571, 0.71428571],\n",
       "        [0.71428571, 0.71428571, 0.71428571],\n",
       "        [0.71428571, 0.71428571, 0.71428571]],\n",
       "\n",
       "       [[0.97142857, 0.97142857, 0.97142857],\n",
       "        [0.97142857, 0.97142857, 0.97142857],\n",
       "        [1.        , 1.        , 1.        ],\n",
       "        ...,\n",
       "        [0.97142857, 0.97142857, 0.97142857],\n",
       "        [0.97142857, 0.97142857, 0.97142857],\n",
       "        [0.97142857, 0.97142857, 0.97142857]],\n",
       "\n",
       "       [[0.97142857, 0.97142857, 0.97142857],\n",
       "        [0.97142857, 0.97142857, 0.97142857],\n",
       "        [1.        , 1.        , 1.        ],\n",
       "        ...,\n",
       "        [0.97142857, 0.97142857, 0.97142857],\n",
       "        [0.97142857, 0.97142857, 0.97142857],\n",
       "        [0.97142857, 0.97142857, 0.97142857]]])"
      ]
     },
     "execution_count": 19,
     "metadata": {},
     "output_type": "execute_result"
    }
   ],
   "source": [
    "X_train[1,:]\n",
    "X_test[1,:]"
   ]
  },
  {
   "cell_type": "code",
   "execution_count": 38,
   "id": "a627a07d",
   "metadata": {},
   "outputs": [],
   "source": [
    "from sklearn.preprocessing import LabelEncoder\n",
    "lb= LabelEncoder()\n",
    "Y_train = lb.fit_transform(Y_train)\n",
    "Y_test = lb.fit_transform(Y_test)"
   ]
  },
  {
   "cell_type": "code",
   "execution_count": 39,
   "id": "9e7d82ba",
   "metadata": {},
   "outputs": [],
   "source": [
    "import matplotlib.pyplot as plt\n",
    "import random"
   ]
  },
  {
   "cell_type": "code",
   "execution_count": 45,
   "id": "1f97ed45",
   "metadata": {},
   "outputs": [],
   "source": [
    "model = Sequential([\n",
    "    Conv2D(256, (3,3), activation = 'relu', input_shape = (224, 224, 3)),\n",
    "    MaxPooling2D((2,2)),\n",
    "    \n",
    "    Conv2D(128, (3,3), activation = 'relu'),\n",
    "    MaxPooling2D((2,2)),\n",
    "    \n",
    "    Conv2D(64, (3,3), activation = 'relu'),\n",
    "    MaxPooling2D((2,2)),\n",
    "    \n",
    "    Conv2D(64, (3,3), activation = 'relu'),\n",
    "    MaxPooling2D((2,2)),\n",
    "    \n",
    "    Flatten(),\n",
    "    #Dense(64, activation = 'relu'),\n",
    "    Dense(190, activation = 'softmax')\n",
    "])"
   ]
  },
  {
   "cell_type": "code",
   "execution_count": 40,
   "id": "0d69120b",
   "metadata": {},
   "outputs": [
    {
     "data": {
      "text/plain": [
       "array([  0,   0,   0, ..., 189, 189, 189], dtype=int64)"
      ]
     },
     "execution_count": 40,
     "metadata": {},
     "output_type": "execute_result"
    }
   ],
   "source": [
    "Y_train"
   ]
  },
  {
   "cell_type": "code",
   "execution_count": 46,
   "id": "3a8d31ef",
   "metadata": {},
   "outputs": [],
   "source": [
    "model.compile(loss = 'sparse_categorical_crossentropy', optimizer = 'adam', metrics = ['accuracy'])"
   ]
  },
  {
   "cell_type": "code",
   "execution_count": 47,
   "id": "4359bd25",
   "metadata": {
    "scrolled": true
   },
   "outputs": [
    {
     "name": "stdout",
     "output_type": "stream",
     "text": [
      "Epoch 1/10\n",
      "50/50 [==============================] - 443s 9s/step - loss: 4.8016 - accuracy: 0.0846 - val_loss: 33.7470 - val_accuracy: 0.0000e+00\n",
      "Epoch 2/10\n",
      "50/50 [==============================] - 422s 8s/step - loss: 0.2630 - accuracy: 0.9420 - val_loss: 70.3828 - val_accuracy: 0.0000e+00\n",
      "Epoch 3/10\n",
      "50/50 [==============================] - 409s 8s/step - loss: 0.0061 - accuracy: 0.9987 - val_loss: 100.1482 - val_accuracy: 0.0000e+00\n",
      "Epoch 4/10\n",
      "50/50 [==============================] - 407s 8s/step - loss: 0.0031 - accuracy: 0.9991 - val_loss: 95.9234 - val_accuracy: 0.0000e+00\n",
      "Epoch 5/10\n",
      "50/50 [==============================] - 412s 8s/step - loss: 0.0045 - accuracy: 0.9991 - val_loss: 105.4925 - val_accuracy: 0.0000e+00\n",
      "Epoch 6/10\n",
      "50/50 [==============================] - 407s 8s/step - loss: 0.0034 - accuracy: 0.9991 - val_loss: 82.8485 - val_accuracy: 0.0000e+00\n",
      "Epoch 7/10\n",
      "50/50 [==============================] - 407s 8s/step - loss: 2.4493e-04 - accuracy: 1.0000 - val_loss: 85.9611 - val_accuracy: 0.0000e+00\n",
      "Epoch 8/10\n",
      "50/50 [==============================] - 406s 8s/step - loss: 1.1144e-05 - accuracy: 1.0000 - val_loss: 88.8234 - val_accuracy: 0.0000e+00\n",
      "Epoch 9/10\n",
      "50/50 [==============================] - 405s 8s/step - loss: 7.2032e-06 - accuracy: 1.0000 - val_loss: 89.8340 - val_accuracy: 0.0000e+00\n",
      "Epoch 10/10\n",
      "50/50 [==============================] - 409s 8s/step - loss: 5.4607e-06 - accuracy: 1.0000 - val_loss: 90.7104 - val_accuracy: 0.0000e+00\n"
     ]
    },
    {
     "data": {
      "text/plain": [
       "<keras.callbacks.History at 0x286fbffa160>"
      ]
     },
     "execution_count": 47,
     "metadata": {},
     "output_type": "execute_result"
    }
   ],
   "source": [
    "model.fit(X_train, Y_train, epochs = 10, batch_size = 64,validation_split=0.2)"
   ]
  },
  {
   "cell_type": "code",
   "execution_count": 49,
   "id": "a6ef3df4",
   "metadata": {},
   "outputs": [
    {
     "name": "stdout",
     "output_type": "stream",
     "text": [
      "36/36 [==============================] - 34s 950ms/step - loss: 18.3054 - accuracy: 0.0509\n"
     ]
    },
    {
     "data": {
      "text/plain": [
       "[18.305418014526367, 0.05087719112634659]"
      ]
     },
     "execution_count": 49,
     "metadata": {},
     "output_type": "execute_result"
    }
   ],
   "source": [
    "model.evaluate(X_test, Y_test)"
   ]
  },
  {
   "cell_type": "code",
   "execution_count": 68,
   "id": "9b27660d",
   "metadata": {},
   "outputs": [],
   "source": [
    "img_height,img_width = 224,224 \n",
    "#If imagenet weights are being loaded, \n",
    "#input must have a static square shape (one of (128, 128), (160, 160), (192, 192), or (224, 224))\n",
    "base_model = tensorflow.keras.applications.resnet50.ResNet50(weights= None, include_top=False, input_shape= (img_height,img_width,3))"
   ]
  },
  {
   "cell_type": "code",
   "execution_count": 69,
   "id": "ba81c1c5",
   "metadata": {},
   "outputs": [],
   "source": [
    "x = base_model.output\n",
    "x = GlobalAveragePooling2D()(x)\n",
    "x = Dropout(0.7)(x)\n",
    "predictions = Dense(190, activation= 'softmax')(x)\n",
    "model = Model(inputs = base_model.input, outputs = predictions)"
   ]
  },
  {
   "cell_type": "code",
   "execution_count": 72,
   "id": "1ead8f81",
   "metadata": {},
   "outputs": [],
   "source": [
    "model.compile(loss = 'sparse_categorical_crossentropy', optimizer = 'adam', metrics = ['accuracy'])"
   ]
  },
  {
   "cell_type": "code",
   "execution_count": 76,
   "id": "34236167",
   "metadata": {},
   "outputs": [
    {
     "name": "stdout",
     "output_type": "stream",
     "text": [
      "Epoch 1/10\n",
      "63/63 [==============================] - 597s 9s/step - loss: 3.7093 - accuracy: 0.1368\n",
      "Epoch 2/10\n",
      "63/63 [==============================] - 581s 9s/step - loss: 2.4810 - accuracy: 0.3419\n",
      "Epoch 3/10\n",
      "63/63 [==============================] - 580s 9s/step - loss: 1.3032 - accuracy: 0.6236\n",
      "Epoch 4/10\n",
      "63/63 [==============================] - 580s 9s/step - loss: 0.5504 - accuracy: 0.8361\n",
      "Epoch 5/10\n",
      "63/63 [==============================] - 579s 9s/step - loss: 0.2995 - accuracy: 0.9005\n",
      "Epoch 6/10\n",
      "63/63 [==============================] - 577s 9s/step - loss: 0.1879 - accuracy: 0.9421\n",
      "Epoch 7/10\n",
      "63/63 [==============================] - 577s 9s/step - loss: 0.1645 - accuracy: 0.9456\n",
      "Epoch 8/10\n",
      "63/63 [==============================] - 577s 9s/step - loss: 0.0846 - accuracy: 0.9739\n",
      "Epoch 9/10\n",
      "63/63 [==============================] - 577s 9s/step - loss: 0.1106 - accuracy: 0.9634\n",
      "Epoch 10/10\n",
      "63/63 [==============================] - 575s 9s/step - loss: 0.0982 - accuracy: 0.9659\n"
     ]
    },
    {
     "data": {
      "text/plain": [
       "<keras.callbacks.History at 0x2889bf70e50>"
      ]
     },
     "execution_count": 76,
     "metadata": {},
     "output_type": "execute_result"
    }
   ],
   "source": [
    "model.fit(X_train, Y_train, epochs = 10, batch_size = 64)"
   ]
  },
  {
   "cell_type": "code",
   "execution_count": 75,
   "id": "c54e0f02",
   "metadata": {},
   "outputs": [
    {
     "name": "stdout",
     "output_type": "stream",
     "text": [
      "36/36 [==============================] - 40s 1s/step - loss: 10.9570 - accuracy: 0.0044\n"
     ]
    },
    {
     "data": {
      "text/plain": [
       "[10.95698070526123, 0.004385964944958687]"
      ]
     },
     "execution_count": 75,
     "metadata": {},
     "output_type": "execute_result"
    }
   ],
   "source": [
    "model.evaluate(X_test, Y_test)"
   ]
  },
  {
   "cell_type": "code",
   "execution_count": 23,
   "id": "bd060858",
   "metadata": {},
   "outputs": [],
   "source": [
    "from keras.layers import MaxPool2D"
   ]
  },
  {
   "cell_type": "code",
   "execution_count": 24,
   "id": "822d0010",
   "metadata": {},
   "outputs": [],
   "source": [
    "model = Sequential()\n",
    "model.add(Conv2D(input_shape=(224,224,3),filters=64,kernel_size=(3,3),padding=\"same\", activation=\"relu\"))\n",
    "model.add(Conv2D(filters=64,kernel_size=(3,3),padding=\"same\", activation=\"relu\"))\n",
    "model.add(MaxPool2D(pool_size=(2,2),strides=(2,2)))\n",
    "model.add(Conv2D(filters=128, kernel_size=(3,3), padding=\"same\", activation=\"relu\"))\n",
    "model.add(Conv2D(filters=128, kernel_size=(3,3), padding=\"same\", activation=\"relu\"))\n",
    "model.add(MaxPool2D(pool_size=(2,2),strides=(2,2)))\n",
    "model.add(Conv2D(filters=256, kernel_size=(3,3), padding=\"same\", activation=\"relu\"))\n",
    "model.add(Conv2D(filters=256, kernel_size=(3,3), padding=\"same\", activation=\"relu\"))\n",
    "model.add(Conv2D(filters=256, kernel_size=(3,3), padding=\"same\", activation=\"relu\"))\n",
    "model.add(MaxPool2D(pool_size=(2,2),strides=(2,2)))\n",
    "model.add(Conv2D(filters=512, kernel_size=(3,3), padding=\"same\", activation=\"relu\"))\n",
    "model.add(Conv2D(filters=512, kernel_size=(3,3), padding=\"same\", activation=\"relu\"))\n",
    "model.add(Conv2D(filters=512, kernel_size=(3,3), padding=\"same\", activation=\"relu\"))\n",
    "model.add(MaxPool2D(pool_size=(2,2),strides=(2,2)))\n",
    "model.add(Conv2D(filters=512, kernel_size=(3,3), padding=\"same\", activation=\"relu\"))\n",
    "model.add(Conv2D(filters=512, kernel_size=(3,3), padding=\"same\", activation=\"relu\"))\n",
    "model.add(Conv2D(filters=512, kernel_size=(3,3), padding=\"same\", activation=\"relu\"))\n",
    "model.add(MaxPool2D(pool_size=(2,2),strides=(2,2)))"
   ]
  },
  {
   "cell_type": "code",
   "execution_count": 56,
   "id": "25182277",
   "metadata": {},
   "outputs": [],
   "source": [
    "model.add(Flatten())\n",
    "model.add(Dense(190, activation = 'softmax'))"
   ]
  },
  {
   "cell_type": "code",
   "execution_count": 57,
   "id": "a7dd4cf2",
   "metadata": {},
   "outputs": [],
   "source": [
    "model.compile(loss = 'sparse_categorical_crossentropy', optimizer = 'adam', metrics = ['accuracy'])"
   ]
  },
  {
   "cell_type": "code",
   "execution_count": 58,
   "id": "289dfd36",
   "metadata": {},
   "outputs": [
    {
     "name": "stdout",
     "output_type": "stream",
     "text": [
      "Model: \"sequential_1\"\n",
      "_________________________________________________________________\n",
      " Layer (type)                Output Shape              Param #   \n",
      "=================================================================\n",
      " conv2d_2 (Conv2D)           (None, 224, 224, 64)      1792      \n",
      "                                                                 \n",
      " conv2d_3 (Conv2D)           (None, 224, 224, 64)      36928     \n",
      "                                                                 \n",
      " max_pooling2d (MaxPooling2D  (None, 112, 112, 64)     0         \n",
      " )                                                               \n",
      "                                                                 \n",
      " conv2d_4 (Conv2D)           (None, 112, 112, 128)     73856     \n",
      "                                                                 \n",
      " conv2d_5 (Conv2D)           (None, 112, 112, 128)     147584    \n",
      "                                                                 \n",
      " max_pooling2d_1 (MaxPooling  (None, 56, 56, 128)      0         \n",
      " 2D)                                                             \n",
      "                                                                 \n",
      " conv2d_6 (Conv2D)           (None, 56, 56, 256)       295168    \n",
      "                                                                 \n",
      " conv2d_7 (Conv2D)           (None, 56, 56, 256)       590080    \n",
      "                                                                 \n",
      " conv2d_8 (Conv2D)           (None, 56, 56, 256)       590080    \n",
      "                                                                 \n",
      " max_pooling2d_2 (MaxPooling  (None, 28, 28, 256)      0         \n",
      " 2D)                                                             \n",
      "                                                                 \n",
      " conv2d_9 (Conv2D)           (None, 28, 28, 512)       1180160   \n",
      "                                                                 \n",
      " conv2d_10 (Conv2D)          (None, 28, 28, 512)       2359808   \n",
      "                                                                 \n",
      " conv2d_11 (Conv2D)          (None, 28, 28, 512)       2359808   \n",
      "                                                                 \n",
      " max_pooling2d_3 (MaxPooling  (None, 14, 14, 512)      0         \n",
      " 2D)                                                             \n",
      "                                                                 \n",
      " conv2d_12 (Conv2D)          (None, 14, 14, 512)       2359808   \n",
      "                                                                 \n",
      " conv2d_13 (Conv2D)          (None, 14, 14, 512)       2359808   \n",
      "                                                                 \n",
      " conv2d_14 (Conv2D)          (None, 14, 14, 512)       2359808   \n",
      "                                                                 \n",
      " max_pooling2d_4 (MaxPooling  (None, 7, 7, 512)        0         \n",
      " 2D)                                                             \n",
      "                                                                 \n",
      " flatten (Flatten)           (None, 25088)             0         \n",
      "                                                                 \n",
      " dense (Dense)               (None, 190)               4766910   \n",
      "                                                                 \n",
      " dense_1 (Dense)             (None, 190)               36290     \n",
      "                                                                 \n",
      " dense_2 (Dense)             (None, 2)                 382       \n",
      "                                                                 \n",
      " flatten_1 (Flatten)         (None, 2)                 0         \n",
      "                                                                 \n",
      " dense_3 (Dense)             (None, 190)               570       \n",
      "                                                                 \n",
      " dense_4 (Dense)             (None, 190)               36290     \n",
      "                                                                 \n",
      " dense_5 (Dense)             (None, 2)                 382       \n",
      "                                                                 \n",
      " flatten_2 (Flatten)         (None, 2)                 0         \n",
      "                                                                 \n",
      " flatten_3 (Flatten)         (None, 2)                 0         \n",
      "                                                                 \n",
      " dense_6 (Dense)             (None, 10)                30        \n",
      "                                                                 \n",
      " flatten_4 (Flatten)         (None, 10)                0         \n",
      "                                                                 \n",
      " dense_7 (Dense)             (None, 190)               2090      \n",
      "                                                                 \n",
      "=================================================================\n",
      "Total params: 19,557,632\n",
      "Trainable params: 19,557,632\n",
      "Non-trainable params: 0\n",
      "_________________________________________________________________\n"
     ]
    }
   ],
   "source": [
    "model.summary()"
   ]
  },
  {
   "cell_type": "code",
   "execution_count": 59,
   "id": "b237a7ef",
   "metadata": {},
   "outputs": [
    {
     "name": "stdout",
     "output_type": "stream",
     "text": [
      "Epoch 1/10\n",
      "63/63 [==============================] - 1141s 18s/step - loss: 5.2492 - accuracy: 0.0045\n",
      "Epoch 2/10\n",
      "63/63 [==============================] - 1131s 18s/step - loss: 5.2486 - accuracy: 0.0030\n",
      "Epoch 3/10\n",
      "63/63 [==============================] - 1130s 18s/step - loss: 5.2486 - accuracy: 0.0045\n",
      "Epoch 4/10\n",
      "63/63 [==============================] - 1079s 17s/step - loss: 5.2486 - accuracy: 0.0035\n",
      "Epoch 5/10\n",
      "63/63 [==============================] - 1046s 17s/step - loss: 5.2486 - accuracy: 0.0053\n",
      "Epoch 6/10\n",
      "63/63 [==============================] - 1046s 17s/step - loss: 5.2485 - accuracy: 0.0053\n",
      "Epoch 7/10\n",
      "63/63 [==============================] - 1046s 17s/step - loss: 5.2486 - accuracy: 0.0035\n",
      "Epoch 8/10\n",
      "63/63 [==============================] - 1046s 17s/step - loss: 5.2484 - accuracy: 0.0033\n",
      "Epoch 9/10\n",
      "63/63 [==============================] - 1046s 17s/step - loss: 5.2485 - accuracy: 0.0035\n",
      "Epoch 10/10\n",
      "63/63 [==============================] - 1047s 17s/step - loss: 5.2484 - accuracy: 0.0040\n"
     ]
    },
    {
     "data": {
      "text/plain": [
       "<keras.callbacks.History at 0x1dd9d24e100>"
      ]
     },
     "execution_count": 59,
     "metadata": {},
     "output_type": "execute_result"
    }
   ],
   "source": [
    "model.fit(X_train, Y_train, epochs = 10, batch_size = 64)"
   ]
  },
  {
   "cell_type": "code",
   "execution_count": null,
   "id": "901e79dd",
   "metadata": {},
   "outputs": [],
   "source": []
  }
 ],
 "metadata": {
  "kernelspec": {
   "display_name": "Python 3 (ipykernel)",
   "language": "python",
   "name": "python3"
  },
  "language_info": {
   "codemirror_mode": {
    "name": "ipython",
    "version": 3
   },
   "file_extension": ".py",
   "mimetype": "text/x-python",
   "name": "python",
   "nbconvert_exporter": "python",
   "pygments_lexer": "ipython3",
   "version": "3.9.7"
  }
 },
 "nbformat": 4,
 "nbformat_minor": 5
}
